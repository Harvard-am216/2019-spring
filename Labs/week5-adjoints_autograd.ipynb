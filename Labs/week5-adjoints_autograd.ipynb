{
  "nbformat": 4,
  "nbformat_minor": 0,
  "metadata": {
    "colab": {
      "name": "week5-adjoints_autograd.ipynb",
      "version": "0.3.2",
      "provenance": [],
      "collapsed_sections": [
        "4Tj-uuSDI-J7",
        "nCOjo61TI-KO",
        "2GIjfpNFI-KP",
        "jv69WDhsI-KR"
      ],
      "toc_visible": true
    },
    "kernelspec": {
      "name": "python3",
      "display_name": "Python 3"
    },
    "accelerator": "GPU"
  },
  "cells": [
    {
      "metadata": {
        "id": "H46EvSskSnqe",
        "colab_type": "text"
      },
      "cell_type": "markdown",
      "source": [
        "# Week 5 COLAB: AM206\n",
        "\n",
        "This tutorial has two parts:\n",
        "\n",
        "\n",
        "1.   Autograd tutorial on automatic differentiation. This is general software that contains the essential algorithm (back-prop) used in deep learning. The tutorial was modified from Material we found on the web, which was written by David Duvenaud.\n",
        "2.   Adjoint method for optimizing ODEs. As we have emphasized in class, the back prop algorithm is equivalent to a classic algorithm for solving optimization problems for ordinary differential equations. In the second part of this tutorial we will implement that.\n",
        "\n",
        "\n",
        "\n",
        "\n"
      ]
    },
    {
      "metadata": {
        "id": "sweN7co-I-JT",
        "colab_type": "text"
      },
      "cell_type": "markdown",
      "source": [
        "## Autograd Tutorial\n",
        "\n",
        "This tutorial was modified from material on the web, I believe written by David Duvenaud. Large parts of the text and of the code were taken from a course that David taught at the University of Toronto.\n",
        "\n",
        "References:\n",
        "\n",
        "* Ryan Adams' talk: https://www.youtube.com/watch?v=sq2gPzlrM0g\n",
        "* Backpropagation notes from Stanford's CS231n: http://cs231n.github.io/optimization-2/\n",
        "* Autograd Github Repository (contains a tutorial and examples): https://github.com/HIPS/autograd\n",
        "\n",
        "## Approaches for Computing Derivatives\n",
        "\n",
        "* **Symbolic differentiation:** automatic manipulation of mathematical expressions to get derivatives\n",
        "    - Takes a math expression and returns a math expression: $f(x) = x^2 \\rightarrow \\frac{df(x)}{dx} = 2x$\n",
        "    - Used in Mathematica, Maple, Sympy, etc.\n",
        "* **Numeric differentiation:** Approximating derivatives by finite differences:\n",
        "$$\n",
        "\\frac{\\partial}{\\partial x_i} f(x_1, \\dots, x_N) = \\lim_{h \\to 0} \\frac{f(x_1, \\dots, x_i + h, \\dots, x_N) - f(x_1, \\dots, x_i - h, \\dots, x_N)}{2h}\n",
        "$$\n",
        "* **Automatic differentiation:** Takes code that computes a function and returns code that computes the derivative of that function.\n",
        "    - Reverse Mode AD: A method to get exact derivatives efficiently, by storing information as you go forward that you can reuse as you go backwards\n",
        "    - \"The goal isn't to obtain closed-form solutions, but to be able to wirte a program that efficiently computes the derivatives.\" - (See eg Lecture 6 Slides from Univ. Toronto)http://www.cs.toronto.edu/~rgrosse/courses/csc321_2017/slides/lec6.pdf\n",
        " \n",
        "\n",
        "## Reverse Mode Automatic Differentiation\n",
        "\n",
        "In machine learning, we have functions that have large fan-in, e.g. a neural net can have millions of parameters, that all squeeze down to one scalar that tells you how well it predicts something.  cats.\n",
        "\n",
        "### General Idea for Implementation\n",
        "\n",
        "* Create a \"tape\" data structure that tracks the operations performed in computing a function\n",
        "* Overload primitives to:\n",
        "    - Add themselves to the tape when called\n",
        "    - Compute gradients with respect to their local inputs\n",
        "* _Forward pass_ computes the function, and adds operations to the tape\n",
        "* _Reverse pass_ accumulates the local gradients using the chain rule\n",
        "* This is efficient for graphs with large fan-in, like most loss functions in ML\n",
        "\n",
        "### Applications of Autograd\n",
        "John Kitchen's group at CMU has good applications of the use of Autograd for solving differential equations and integrals, see this (link)http://kitchingroup.cheme.cmu.edu/blog/category/autograd/"
      ]
    },
    {
      "metadata": {
        "id": "YUxrvFvOI-JU",
        "colab_type": "text"
      },
      "cell_type": "markdown",
      "source": [
        "## Autograd\n",
        "\n",
        "* [Autograd](https://github.com/HIPS/autograd) is a Python package for automatic differentiation.\n",
        "* To install Autograd:\n",
        "                pip install autograd\n",
        "* There are a lot of great [examples](https://github.com/HIPS/autograd/tree/master/examples) provided with the source code\n",
        "\n",
        "### What can Autograd do?\n",
        "\n",
        "From the Autograd Github repository:\n",
        "\n",
        "* Autograd can automatically differentiate native Python and Numpy code.\n",
        "* It can handle a large subset of Python's features, including loops, conditional statements (if/else), recursion and closures\n",
        "* It can also compute higher-order derivatives\n",
        "* It uses reverse-mode differentiation (a.k.a. backpropagation) so it can efficiently take gradients of scalar-valued functions with respect to array-valued arguments.\n",
        "\n"
      ]
    },
    {
      "metadata": {
        "id": "r_E3fjJ_I-JV",
        "colab_type": "text"
      },
      "cell_type": "markdown",
      "source": [
        "### Autograd Basic Usage"
      ]
    },
    {
      "metadata": {
        "id": "dTD8TSBdI-JW",
        "colab_type": "code",
        "colab": {}
      },
      "cell_type": "code",
      "source": [
        "import autograd.numpy as np # Import thinly-wrapped numpy\n",
        "from autograd import grad   # Basicallly the only function you need"
      ],
      "execution_count": 0,
      "outputs": []
    },
    {
      "metadata": {
        "id": "H9IXCBS0I-Jb",
        "colab_type": "code",
        "outputId": "11ced51e-8cda-4b3e-8fca-30c4679877e0",
        "colab": {
          "base_uri": "https://localhost:8080/",
          "height": 51
        }
      },
      "cell_type": "code",
      "source": [
        "# Define a function like normal, using Python and Numpy\n",
        "def tanh(x):\n",
        "    y = np.exp(-x)\n",
        "    return (1.0 - y) / (1.0 + y)\n",
        "\n",
        "# Create a *function* that computes the gradient of tanh\n",
        "grad_tanh = grad(tanh)\n",
        "\n",
        "# Evaluate the gradient at x = 1.0\n",
        "print(grad_tanh(1.0))\n",
        "\n",
        "# Compare to numeric gradient computed using finite differences\n",
        "print((tanh(1.0001) - tanh(0.9999)) / 0.0002)"
      ],
      "execution_count": 0,
      "outputs": [
        {
          "output_type": "stream",
          "text": [
            "0.39322386648296376\n",
            "0.39322386636453377\n"
          ],
          "name": "stdout"
        }
      ]
    },
    {
      "metadata": {
        "id": "0QwWSJfbkt24",
        "colab_type": "code",
        "outputId": "d9597f5b-3a2b-4a8e-a29a-278c395fbdaa",
        "colab": {
          "base_uri": "https://localhost:8080/",
          "height": 34
        }
      },
      "cell_type": "code",
      "source": [
        "print(grad(np.cos)(5.),-np.sin(5.))"
      ],
      "execution_count": 0,
      "outputs": [
        {
          "output_type": "stream",
          "text": [
            "0.9589242746631385 0.9589242746631385\n"
          ],
          "name": "stdout"
        }
      ]
    },
    {
      "metadata": {
        "id": "Ov8exzc2I-Jg",
        "colab_type": "text"
      },
      "cell_type": "markdown",
      "source": [
        "### Autograd vs Manual Gradients via Staged Computation\n",
        "\n",
        "In this example, we will see how a complicated computation can be written as a composition of simpler functions, and how this provides a scalable strategy for computing gradients using the chain rule.\n",
        "\n",
        "Say we want to write a function to compute the gradient of the *sigmoid function*:\n",
        "$$\n",
        "\\sigma(x) = \\frac{1}{1 + e^{-x}}\n",
        "$$\n",
        "We can write $\\sigma(x)$ as a composition of several elementary functions, as $\\sigma(x) = s(c(b(a(x))))$, where:\n",
        "\n",
        "$$\n",
        "a(x) = -x\n",
        "$$\n",
        "\n",
        "$$\n",
        "b(a) = e^a\n",
        "$$\n",
        "\n",
        "$$\n",
        "c(b) = 1 + b\n",
        "$$\n",
        "\n",
        "$$\n",
        "s(c) = \\frac{1}{c}\n",
        "$$\n",
        "\n",
        "Here, we have \"staged\" the computation such that it contains several intermediate variables, each of which are basic expressions for which we can easily compute the local gradients.\n",
        "\n",
        "The input to this function is $x$, and the output is represented by node $s$. We wish compute the gradient of $s$ with respect to $x$, $\\frac{\\partial s}{\\partial x}$. In order to make use of our intermediate computations, we can use the chain rule as follows:\n",
        "$$\n",
        "\\frac{\\partial s}{\\partial x} = \\frac{\\partial s}{\\partial c} \\frac{\\partial c}{\\partial b} \\frac{\\partial b}{\\partial a} \\frac{\\partial a}{\\partial x}\n",
        "$$\n",
        "\n",
        "<!--\n",
        "Given a vector-to-scalar function, $\\mathbb{R}^D \\to \\mathbb{R}$, composed of a set of primitive functions\n",
        "$\\mathbb{R}^M \\to \\mathbb{R}^N$ (for various $M$, $N$), the gradient of the composition is given by the product of the gradients of the primitive functions, according to the chain rule. But the chain rule doesn’t prescribe the order in which to multiply the gradients. From the perspective of computational complexity, the order makes all the\n",
        "difference.\n",
        "-->"
      ]
    },
    {
      "metadata": {
        "id": "Us25jNe1I-Jh",
        "colab_type": "code",
        "outputId": "a223d4b4-89e5-49f0-fa53-5074ac076a99",
        "colab": {}
      },
      "cell_type": "code",
      "source": [
        "def grad_sigmoid_manual(x):\n",
        "    \"\"\"Implements the gradient of the logistic sigmoid function \n",
        "    $\\sigma(x) = 1 / (1 + e^{-x})$ using staged computation\n",
        "    \"\"\"\n",
        "    # Forward pass, keeping track of intermediate values for use in the \n",
        "    # backward pass\n",
        "    a = -x         # -x in denominator\n",
        "    b = np.exp(a)  # e^{-x} in denominator\n",
        "    c = 1 + b      # 1 + e^{-x} in denominator\n",
        "    s = 1.0 / c    # Final result, 1.0 / (1 + e^{-x})\n",
        "    \n",
        "    # Backward pass\n",
        "    dsdc = (-1.0 / (c**2))\n",
        "    dsdb = dsdc * 1\n",
        "    dsda = dsdb * np.exp(a)\n",
        "    dsdx = dsda * (-1)\n",
        "    \n",
        "    return dsdx\n",
        "\n",
        "\n",
        "def sigmoid(x):\n",
        "    y = 1.0 / (1.0 + np.exp(-x))\n",
        "    return y\n",
        "\n",
        "# Instead of writing grad_sigmoid_manual manually, we can use \n",
        "# Autograd's grad function:\n",
        "grad_sigmoid_automatic = grad(sigmoid)\n",
        "\n",
        "# Compare the results of manual and automatic gradient functions:\n",
        "print(grad_sigmoid_automatic(2.0))\n",
        "print(grad_sigmoid_manual(2.0))"
      ],
      "execution_count": 0,
      "outputs": [
        {
          "output_type": "stream",
          "text": [
            "0.1049935854035065\n",
            "0.1049935854035065\n"
          ],
          "name": "stdout"
        }
      ]
    },
    {
      "metadata": {
        "id": "YS1wP8YxI-Jq",
        "colab_type": "text"
      },
      "cell_type": "markdown",
      "source": [
        "### Gradients of Data Structures: `flatten` and `unflatten`\n",
        "\n",
        "Autograd allows you to compute gradients for many different data structures.\n",
        "Autograd provides a lot of flexibility in the types of data structures you can use to store the parameters of your model. This flexibility is achieved through the `flatten` function, which converts any nested combination of lists, tuples, arrays, or dicts into a 1-dimensional Numpy array.\n",
        "\n",
        "The idea is that we know how to compute gradients of vectors, and we can convert many data structures into vectors (i.e. \"flatten\" the data structures). \n",
        "\n",
        "- **Actually there are many other ways to flatten an array.** The autograd team still preserves this function."
      ]
    },
    {
      "metadata": {
        "id": "uYA7TwAcI-Js",
        "colab_type": "code",
        "colab": {}
      },
      "cell_type": "code",
      "source": [
        "import autograd.numpy as np\n",
        "import autograd.numpy.random as npr\n",
        "from autograd import grad\n",
        "from autograd.misc.flatten import flatten"
      ],
      "execution_count": 0,
      "outputs": []
    },
    {
      "metadata": {
        "id": "jhpHotdVI-Jx",
        "colab_type": "text"
      },
      "cell_type": "markdown",
      "source": [
        "A list of matrices (of different sizes):"
      ]
    },
    {
      "metadata": {
        "id": "LBceazbCI-Jz",
        "colab_type": "code",
        "outputId": "4b0729d9-7d5f-492b-a437-34aec6021182",
        "colab": {}
      },
      "cell_type": "code",
      "source": [
        "params = [npr.randn(3,3), npr.randn(4,4), npr.randn(3,3)]\n",
        "flat_params, unflatten_func = flatten(params)\n",
        "print('Flattened: {}'.format(flat_params))\n",
        "print('Unflattened: {}'.format(unflatten_func(flat_params)))"
      ],
      "execution_count": 0,
      "outputs": [
        {
          "output_type": "stream",
          "text": [
            "Flattened: [-0.98034277 -0.54553395  1.69312367  0.2968163  -1.02000912 -1.01207054\n",
            "  1.70703696  1.81041805 -0.92433532  0.05236841 -0.19019408 -0.4913118\n",
            " -0.96283074 -0.83071431 -0.44841592 -0.9505029  -1.25193859  0.34491733\n",
            "  2.05251698 -1.47977138 -0.42059906  1.9629321  -0.68239644 -0.75415354\n",
            " -1.51664797  0.02001511  1.34906595 -1.05308974 -0.54593937  1.51462912\n",
            "  0.62820323 -0.26265882  1.60072202 -0.71085177]\n",
            "Unflattened: [array([[-0.98034277, -0.54553395,  1.69312367],\n",
            "       [ 0.2968163 , -1.02000912, -1.01207054],\n",
            "       [ 1.70703696,  1.81041805, -0.92433532]]), array([[ 0.05236841, -0.19019408, -0.4913118 , -0.96283074],\n",
            "       [-0.83071431, -0.44841592, -0.9505029 , -1.25193859],\n",
            "       [ 0.34491733,  2.05251698, -1.47977138, -0.42059906],\n",
            "       [ 1.9629321 , -0.68239644, -0.75415354, -1.51664797]]), array([[ 0.02001511,  1.34906595, -1.05308974],\n",
            "       [-0.54593937,  1.51462912,  0.62820323],\n",
            "       [-0.26265882,  1.60072202, -0.71085177]])]\n"
          ],
          "name": "stdout"
        },
        {
          "output_type": "stream",
          "text": [
            "/anaconda3/envs/pymatgen3/lib/python3.6/site-packages/autograd/numpy/numpy_vjps.py:444: FutureWarning: Using a non-tuple sequence for multidimensional indexing is deprecated; use `arr[tuple(seq)]` instead of `arr[seq]`. In the future this will be interpreted as an array index, `arr[np.array(seq)]`, which will result either in an error or a different result.\n",
            "  return lambda g: g[idxs]\n"
          ],
          "name": "stderr"
        }
      ]
    },
    {
      "metadata": {
        "id": "4Tj-uuSDI-J7",
        "colab_type": "text"
      },
      "cell_type": "markdown",
      "source": [
        "### Gradient Functions\n",
        "\n",
        "There are several functions that compute gradients, which have different signatures\n",
        "\n",
        "* `grad(fun, argnum=0)`\n",
        "    - Returns a function which computes the gradient of `fun` with respect to\n",
        "      positional argument number `argnum`. The returned function takes the same\n",
        "      arguments as `fun`, but returns the gradient instead. The function `fun`\n",
        "      should be scalar-valued. The gradient has the same type as the argument.\n",
        "* `grad_named(fun, argname)`\n",
        "    - Takes gradients with respect to a named argument.\n",
        "* `multigrad(fun, argnums=[0])`\n",
        "    - Takes gradients wrt multiple arguments simultaneously.\n",
        "* `multigrad_dict(fun)`\n",
        "    - Takes gradients with respect to all arguments simultaneously, and returns a dict mapping `argname` to `gradval`"
      ]
    },
    {
      "metadata": {
        "id": "QiEtorzzI-J-",
        "colab_type": "text"
      },
      "cell_type": "markdown",
      "source": [
        "## Modularity: Implementing Custom Gradients\n",
        "\n",
        "The implementation of Autograd is simple, readable, and extensible!\n",
        "\n",
        "One thing you can do is define custom gradients for your own functions. There are several reasons you might want to do this, including:\n",
        "\n",
        "1. **Speed:** You may know a faster way to compute the gradient for a specific function.\n",
        "2. **Numerical Stability**\n",
        "3. When your code depends on **external library calls**\n",
        "\n",
        "The `@primitive` decorator wraps a function so that its gradient can be specified manually and its invocation can be recorded."
      ]
    },
    {
      "metadata": {
        "id": "nvQFHOiNI-KA",
        "colab_type": "code",
        "outputId": "5a70e3fa-6572-4aad-abc4-4dc53ca004eb",
        "colab": {}
      },
      "cell_type": "code",
      "source": [
        "import autograd.numpy as np\n",
        "import autograd.numpy.random as npr\n",
        "from autograd import grad, primitive\n",
        "from autograd.util import quick_grad_check\n",
        "\n",
        "# From the Autograd examples:\n",
        "# @primitive tells autograd not to look inside this function, but instead\n",
        "# to treat it as a black box, whose gradient might be specified later.\n",
        "@primitive\n",
        "def logsumexp(x):\n",
        "    \"\"\"Numerically stable log(sum(exp(x)))\"\"\"\n",
        "    max_x = np.max(x)\n",
        "    return max_x + np.log(np.sum(np.exp(x - max_x)))\n",
        "\n",
        "# Next, we write a function that specifies the gradient with a closure.\n",
        "def make_grad_logsumexp(ans, x):\n",
        "    # If you want to be able to take higher-order derivatives, then all the\n",
        "    # code inside this function must be itself differentiable by autograd.\n",
        "    def gradient_product(g):\n",
        "        return np.full(x.shape, g) * np.exp(x - np.full(x.shape, ans))\n",
        "    return gradient_product\n",
        "\n",
        "# Now we tell autograd that logsumexmp has a gradient-making function.\n",
        "logsumexp.defgrad(make_grad_logsumexp)"
      ],
      "execution_count": 0,
      "outputs": [
        {
          "output_type": "stream",
          "text": [
            "/anaconda3/envs/pymatgen3/lib/python3.6/site-packages/autograd/core.py:308: UserWarning: \n",
            "The defgrad method is deprecated. See the update guide and tutorial:\n",
            "https://github.com/HIPS/autograd/blob/master/docs/updateguide.md\n",
            "https://github.com/HIPS/autograd/blob/master/docs/tutorial.md\n",
            "  warnings.warn(deprecation_msg)\n"
          ],
          "name": "stderr"
        }
      ]
    },
    {
      "metadata": {
        "id": "xjBgUta6I-KH",
        "colab_type": "code",
        "outputId": "aa03d951-5340-41ca-8ed1-47da36e57398",
        "colab": {}
      },
      "cell_type": "code",
      "source": [
        "# Now we can use logsumexp() inside a larger function that we want to differentiate.\n",
        "def example_func(y):\n",
        "    z = y**2\n",
        "    lse = logsumexp(z)\n",
        "    return np.sum(lse)\n",
        "\n",
        "grad_of_example = grad(example_func)\n",
        "print(\"Gradient: \", grad_of_example(npr.randn(10)))\n",
        "\n",
        "# Check the gradients numerically, just to be safe.\n",
        "quick_grad_check(example_func, npr.randn(10))"
      ],
      "execution_count": 0,
      "outputs": [
        {
          "output_type": "stream",
          "text": [
            "Gradient:  [-0.02783314  1.16460432  0.02345465  0.00957014  0.19238063 -0.17134002\n",
            " -0.07414563  0.02454814  0.02704719  0.0707303 ]\n"
          ],
          "name": "stdout"
        },
        {
          "output_type": "stream",
          "text": [
            "/anaconda3/envs/pymatgen3/lib/python3.6/site-packages/autograd/util.py:28: UserWarning: \n",
            "The quick_grad_check function is deprecated. See the update guide:\n",
            "https://github.com/HIPS/autograd/blob/master/docs/updateguide.md\n",
            "  warnings.warn(deprecation_msg)\n"
          ],
          "name": "stderr"
        }
      ]
    },
    {
      "metadata": {
        "id": "nCOjo61TI-KO",
        "colab_type": "text"
      },
      "cell_type": "markdown",
      "source": [
        "### Examples\n",
        "\n",
        "The next three sections of the notebook show examples of using Autograd in the context of three problems:\n",
        "\n",
        "1. **1-D linear regression**, where we try to fit a model to a function $y = wx + b$\n",
        "2. **Linear regression using a polynomial feature map**, to fit a function of the form $y = w_0 + w_1 x + w_2 x^2 + \\dots + w_M x^M$\n",
        "3. **Nonlinear regression using a neural network**"
      ]
    },
    {
      "metadata": {
        "id": "2GIjfpNFI-KP",
        "colab_type": "text"
      },
      "cell_type": "markdown",
      "source": [
        "#### Linear Regression"
      ]
    },
    {
      "metadata": {
        "id": "jv69WDhsI-KR",
        "colab_type": "text"
      },
      "cell_type": "markdown",
      "source": [
        "### Review\n",
        "\n",
        "We are given a set of data points $\\{ (x_1, t_1), (x_2, t_2), \\dots, (x_N, t_N) \\}$, where each point $(x_i, t_i)$ consists of an *input value* $x_i$ and a *target value* $t_i$. \n",
        "\n",
        "The **model** we use is:\n",
        "$$\n",
        "y_i = wx_i + b\n",
        "$$\n",
        "\n",
        "We want each predicted value $y_i$ to be close to the ground truth value $t_i$. In linear regression, we use squared error to quantify the disagreement between $y_i$ and $t_i$. The **loss function** for a single example is:\n",
        "$$\n",
        "\\mathcal{L}(y_i,t_i) = \\frac{1}{2} (y_i - t_i)^2\n",
        "$$\n",
        "\n",
        "The **cost function** is the loss averaged over all the training examples:\n",
        "$$\n",
        "\\mathcal{E}(w,b) = \\frac{1}{N} \\sum_{i=1}^N \\mathcal{L}(y_i, t_i) = \\frac{1}{N} \\sum_{i=1}^N \\frac{1}{2} \\left(wx_i + b - t_i \\right)^2\n",
        "$$"
      ]
    },
    {
      "metadata": {
        "id": "ixKTZOvsI-KU",
        "colab_type": "code",
        "colab": {}
      },
      "cell_type": "code",
      "source": [
        "import autograd.numpy as np # Import wrapped NumPy from Autograd\n",
        "import autograd.numpy.random as npr # For convenient access to numpy.random\n",
        "from autograd import grad # To compute gradients\n",
        "\n",
        "import matplotlib.pyplot as plt # For plotting\n",
        "\n",
        "%matplotlib inline"
      ],
      "execution_count": 0,
      "outputs": []
    },
    {
      "metadata": {
        "id": "doJbpJn2I-KY",
        "colab_type": "text"
      },
      "cell_type": "markdown",
      "source": [
        "## Generate Synthetic Data"
      ]
    },
    {
      "metadata": {
        "id": "WYxsD3WZI-KZ",
        "colab_type": "text"
      },
      "cell_type": "markdown",
      "source": [
        "We generate a synthetic dataset $\\{ (x_i, t_i) \\}$ by first taking the $x_i$ to be linearly spaced in the range $[0, 10]$ and generating the corresponding value of $t_i$ using the following equation (where $w = 4$ and $b=10$):\n",
        "$$\n",
        "t_i = 4 x_i + 10 + \\epsilon\n",
        "$$\n",
        "\n",
        "Here, $\\epsilon \\sim \\mathcal{N}(0, 2)$ (that is, $\\epsilon$ is drawn from a Gaussian distribution with mean 0 and variance 2). This introduces some random fluctuation in the data, to mimic real data that has an underlying regularity, but for which individual observations are corrupted by random noise."
      ]
    },
    {
      "metadata": {
        "id": "1ivHn6fvI-Ka",
        "colab_type": "code",
        "outputId": "4b81eebc-b11f-45e9-ac39-85193d6f8f7f",
        "colab": {}
      },
      "cell_type": "code",
      "source": [
        "# In our synthetic data, we have w = 4 and b = 10\n",
        "N = 100 # Number of training data points\n",
        "x = np.linspace(0, 10, N)\n",
        "t = 4 * x + 10 + npr.normal(0, 2, x.shape[0])\n",
        "plt.plot(x, t, 'r.')"
      ],
      "execution_count": 0,
      "outputs": [
        {
          "output_type": "execute_result",
          "data": {
            "text/plain": [
              "[<matplotlib.lines.Line2D at 0x123989438>]"
            ]
          },
          "metadata": {
            "tags": []
          },
          "execution_count": 195
        },
        {
          "output_type": "display_data",
          "data": {
            "image/png": "[encoded data removed]",
            "text/plain": [
              "<Figure size 432x288 with 1 Axes>"
            ]
          },
          "metadata": {
            "tags": []
          }
        }
      ]
    },
    {
      "metadata": {
        "id": "cOwSmsJPI-Kf",
        "colab_type": "code",
        "outputId": "c57de743-5b1f-464d-f2b4-cbe8f10a1215",
        "colab": {}
      },
      "cell_type": "code",
      "source": [
        "# Initialize random parameters\n",
        "w = npr.normal(0, 1)\n",
        "b = npr.normal(0, 1)\n",
        "params = { 'w': w, 'b': b } # One option: aggregate parameters in a dictionary\n",
        "\n",
        "def cost(params):\n",
        "    y = params['w'] * x + params['b']\n",
        "    return (1 / N) * np.sum(0.5 * np.square(y - t))\n",
        "\n",
        "# Find the gradient of the cost function using Autograd\n",
        "grad_cost = grad(cost) \n",
        "\n",
        "num_epochs = 1000  # Number of epochs of training\n",
        "alpha = 0.01       # Learning rate\n",
        "\n",
        "for i in range(num_epochs):\n",
        "    # Evaluate the gradient of the current parameters stored in params\n",
        "    cost_params = grad_cost(params)\n",
        "    \n",
        "    # Update parameters w and b\n",
        "    params['w'] = params['w'] - alpha * cost_params['w']\n",
        "    params['b'] = params['b'] - alpha * cost_params['b']\n",
        "\n",
        "print(params)"
      ],
      "execution_count": 0,
      "outputs": [
        {
          "output_type": "stream",
          "text": [
            "{'w': 4.076557885127735, 'b': 9.238366645707936}\n"
          ],
          "name": "stdout"
        }
      ]
    },
    {
      "metadata": {
        "id": "QNo4sAW4I-Ko",
        "colab_type": "code",
        "outputId": "eb9459d9-3eba-4e7b-b91c-38ee2d6bbcda",
        "colab": {}
      },
      "cell_type": "code",
      "source": [
        "# Plot the training data again, together with the line defined by y = wx + b\n",
        "# where w and b are our final learned parameters\n",
        "plt.plot(x, t, 'r.')\n",
        "plt.plot([0, 10], [params['b'], params['w'] * 10 + params['b']], 'b-')"
      ],
      "execution_count": 0,
      "outputs": [
        {
          "output_type": "execute_result",
          "data": {
            "text/plain": [
              "[<matplotlib.lines.Line2D at 0x1239a6cc0>]"
            ]
          },
          "metadata": {
            "tags": []
          },
          "execution_count": 197
        },
        {
          "output_type": "display_data",
          "data": {
            "image/png": "[encoded data removed]",
            "text/plain": [
              "<Figure size 432x288 with 1 Axes>"
            ]
          },
          "metadata": {
            "tags": []
          }
        }
      ]
    },
    {
      "metadata": {
        "id": "9u2m7j50I-Kw",
        "colab_type": "text"
      },
      "cell_type": "markdown",
      "source": [
        "## Linear Regression with a Feature Mapping"
      ]
    },
    {
      "metadata": {
        "id": "LB-avHiLI-Ky",
        "colab_type": "text"
      },
      "cell_type": "markdown",
      "source": [
        "In this example we will fit a polynomial using linear regression with a polynomial feature mapping.\n",
        "The target function is:\n",
        "\n",
        "$$\n",
        "t = x^4 - 10 x^2 + 10 x + \\epsilon\n",
        "$$\n",
        "\n",
        "where $\\epsilon \\sim \\mathcal{N}(0, 4)$. \n",
        "\n",
        "This is an example of a _generalized linear model_, in which we perform a fixed nonlinear transformation of the inputs $\\mathbf{x} = (x_1, x_2, \\dots, x_D)$, and the model is still linear in the _parameters_. We can define a set of _feature mappings_ (also called feature functions or basis functions) $\\phi$ to implement the fixed transformations.\n",
        "\n",
        "In this case, we have $x \\in \\mathbb{R}$, and we define the feature mapping:\n",
        "$$\n",
        "\\mathbf{\\phi}(x) = \\begin{pmatrix}\\phi_1(x) \\\\ \\phi_2(x) \\\\ \\phi_3(x) \\\\ \\phi_4(x) \\end{pmatrix} = \\begin{pmatrix}1\\\\x\\\\x^2\\\\x^3\\end{pmatrix}\n",
        "$$"
      ]
    },
    {
      "metadata": {
        "id": "VBrsu657I-K0",
        "colab_type": "code",
        "outputId": "6b21adf2-ba85-4379-ca9f-04a694870870",
        "colab": {}
      },
      "cell_type": "code",
      "source": [
        "# Generate synthetic data\n",
        "N = 100 # Number of data points\n",
        "x = np.linspace(-3, 3, N) # Generate N values linearly-spaced between -3 and 3\n",
        "t = x ** 4 - 10 * x ** 2 + 10 * x + npr.normal(0, 4, x.shape[0]) # Generate corresponding targets\n",
        "plt.plot(x, t, 'r.') # Plot data points"
      ],
      "execution_count": 0,
      "outputs": [
        {
          "output_type": "execute_result",
          "data": {
            "text/plain": [
              "[<matplotlib.lines.Line2D at 0x13bc7c550>]"
            ]
          },
          "metadata": {
            "tags": []
          },
          "execution_count": 198
        },
        {
          "output_type": "display_data",
          "data": {
            "image/png": "[encoded data removed]",
            "text/plain": [
              "<Figure size 432x288 with 1 Axes>"
            ]
          },
          "metadata": {
            "tags": []
          }
        }
      ]
    },
    {
      "metadata": {
        "id": "o1zuz6LXI-K7",
        "colab_type": "code",
        "outputId": "22fc5cc2-81fc-47b5-d484-12f8262a2081",
        "colab": {}
      },
      "cell_type": "code",
      "source": [
        "M = 4 # Degree of polynomial to fit to the data (this is a hyperparameter)\n",
        "feature_matrix = np.array([[item ** i for i in range(M+1)] for item in x]) # Construct a feature matrix \n",
        "W = npr.randn(feature_matrix.shape[-1])\n",
        "\n",
        "def cost(W):\n",
        "    y = np.dot(feature_matrix, W)\n",
        "    return (1.0 / N) * np.sum(0.5 * np.square(y - t))\n",
        "\n",
        "# Compute the gradient of the cost function using Autograd\n",
        "cost_grad = grad(cost)\n",
        "\n",
        "num_epochs = 10000\n",
        "learning_rate = 0.001\n",
        "\n",
        "# Manually implement gradient descent\n",
        "for i in range(num_epochs):\n",
        "    W = W - learning_rate * cost_grad(W)\n",
        "\n",
        "# Print the final learned parameters.\n",
        "print(W)"
      ],
      "execution_count": 0,
      "outputs": [
        {
          "output_type": "stream",
          "text": [
            "[-1.36394649  9.52788013 -9.56607407  0.06474176  0.96275857]\n"
          ],
          "name": "stdout"
        }
      ]
    },
    {
      "metadata": {
        "id": "qhW396kKI-LA",
        "colab_type": "code",
        "outputId": "63853e45-3a6e-40f0-a303-1ec1f0cd2281",
        "colab": {}
      },
      "cell_type": "code",
      "source": [
        "# Plot the original training data again, together with the polynomial we fit\n",
        "plt.plot(x, t, 'r.')\n",
        "plt.plot(x, np.dot(feature_matrix, W), 'b-')"
      ],
      "execution_count": 0,
      "outputs": [
        {
          "output_type": "execute_result",
          "data": {
            "text/plain": [
              "[<matplotlib.lines.Line2D at 0x13bcecfd0>]"
            ]
          },
          "metadata": {
            "tags": []
          },
          "execution_count": 200
        },
        {
          "output_type": "display_data",
          "data": {
            "image/png": "[encoded data removed]",
            "text/plain": [
              "<Figure size 432x288 with 1 Axes>"
            ]
          },
          "metadata": {
            "tags": []
          }
        }
      ]
    },
    {
      "metadata": {
        "id": "61uqybZmI-LG",
        "colab_type": "text"
      },
      "cell_type": "markdown",
      "source": [
        "## Have fun: Building MNIST classifier ALL from scratch"
      ]
    },
    {
      "metadata": {
        "id": "RCaWNfL5I-LH",
        "colab_type": "code",
        "colab": {}
      },
      "cell_type": "code",
      "source": [
        "import os, gzip, struct, array\n",
        "import autograd.numpy as np\n",
        "from urllib.request import urlretrieve"
      ],
      "execution_count": 0,
      "outputs": []
    },
    {
      "metadata": {
        "id": "LyopcLU-I-LM",
        "colab_type": "text"
      },
      "cell_type": "markdown",
      "source": [
        "### Download the data"
      ]
    },
    {
      "metadata": {
        "id": "Rw9BcCinI-LY",
        "colab_type": "code",
        "colab": {}
      },
      "cell_type": "code",
      "source": [
        "def load_mnist():\n",
        "    from keras.datasets import mnist\n",
        "    from keras.utils import to_categorical\n",
        "    (train_images, train_labels), (test_images, test_labels) = mnist.load_data()\n",
        "    N_data = train_images.shape[0]\n",
        "    return N_data, train_images.reshape(-1,784)/255.0, to_categorical(train_labels,10), \\\n",
        "test_images.reshape(-1,784)/255.0, to_categorical(test_labels,10)"
      ],
      "execution_count": 0,
      "outputs": []
    },
    {
      "metadata": {
        "id": "A7XjqT6pI-Ld",
        "colab_type": "code",
        "outputId": "340a10bb-3a50-453e-e096-40f11f31ffba",
        "colab": {
          "base_uri": "https://localhost:8080/",
          "height": 311
        }
      },
      "cell_type": "code",
      "source": [
        "\"\"\"A multi-layer perceptron for classification of MNIST handwritten digits.\"\"\"\n",
        "from __future__ import absolute_import, division\n",
        "from __future__ import print_function\n",
        "import autograd.numpy as np\n",
        "import autograd.numpy.random as npr\n",
        "from autograd.scipy.misc import logsumexp\n",
        "from autograd import grad\n",
        "from autograd.misc.flatten import flatten\n",
        "from autograd.misc.optimizers import adam\n",
        "\n",
        "\n",
        "def init_random_params(scale, layer_sizes, rs=npr.RandomState(0)):\n",
        "    \"\"\"Build a list of (weights, biases) tuples,\n",
        "       one for each layer in the net.\"\"\"\n",
        "    return [(scale * rs.randn(m, n),   # weight matrix\n",
        "             scale * rs.randn(n))      # bias vector\n",
        "            for m, n in zip(layer_sizes[:-1], layer_sizes[1:])]\n",
        "\n",
        "def neural_net_predict(params, inputs):\n",
        "    \"\"\"Implements a deep neural network for classification.\n",
        "       params is a list of (weights, bias) tuples of each layer.\n",
        "       inputs is an (N x D) matrix.\n",
        "       returns normalized class log-probabilities.\"\"\"\n",
        "    for W, b in params:\n",
        "        \n",
        "        # outputs of current layer before the activation\n",
        "        outputs = np.dot(inputs, W) + b\n",
        "        \n",
        "        # inputs to the next layer\n",
        "        inputs = np.tanh(outputs)\n",
        "    return outputs - 0*logsumexp(outputs, axis=1, keepdims=True)\n",
        "\n",
        "def l2_norm(params):\n",
        "    \"\"\"Computes l2 norm of params by flattening them into a vector.\"\"\"\n",
        "    flattened, _ = flatten(params)\n",
        "    return np.dot(flattened, flattened)\n",
        "\n",
        "def loss(params, inputs, targets, L2_reg):\n",
        "    rgl = L2_reg * l2_norm(params)\n",
        "    crossE = -np.sum(neural_net_predict(params, inputs) * targets)\n",
        "    return rgl + crossE\n",
        "\n",
        "def accuracy(params, inputs, targets):\n",
        "    target_class    = np.argmax(targets, axis=1)\n",
        "    predicted_class = np.argmax(neural_net_predict(params, inputs), axis=1)\n",
        "    return np.mean(predicted_class == target_class)\n",
        "\n",
        "\n",
        "# Model parameters. `L2_reg` is `lambda` in L2-regularization\n",
        "layer_sizes = [784, 200, 100, 10]\n",
        "L2_reg = 1.0\n",
        "\n",
        "# Training parameters\n",
        "param_scale = 0.1\n",
        "batch_size = 256\n",
        "num_epochs = 15\n",
        "step_size = 0.001\n",
        "\n",
        "print(\"Loading training data...\")\n",
        "N, train_images, train_labels, test_images,  test_labels = load_mnist()\n",
        "\n",
        "init_params = init_random_params(param_scale, layer_sizes)\n",
        "\n",
        "num_batches = int(np.ceil(len(train_images) / batch_size))\n",
        "def batch_indices(iter):\n",
        "    idx = iter % num_batches\n",
        "    return slice(idx * batch_size, (idx+1) * batch_size)\n",
        "\n",
        "# Define training objective\n",
        "def objective(params, iter):\n",
        "    idx = batch_indices(iter)\n",
        "    return loss(params, train_images[idx], train_labels[idx], L2_reg)\n",
        "\n",
        "# Get gradient of objective using autograd.\n",
        "objective_grad = grad(objective)\n",
        "\n",
        "print(\"     Epoch     |    Train accuracy  |       Test accuracy  \")\n",
        "def print_perf(params, iter, gradient):\n",
        "    if iter % num_batches == 0:\n",
        "        train_acc = accuracy(params, train_images, train_labels)\n",
        "        test_acc  = accuracy(params, test_images, test_labels)\n",
        "        print(\"{:15}|{:20}|{:20}\".format(iter//num_batches, train_acc, test_acc))\n",
        "\n",
        "# The optimizers provided can optimize lists, tuples, or dicts of parameters.\n",
        "optimized_params = adam(objective_grad, init_params, step_size=step_size,\n",
        "                        num_iters=num_epochs * num_batches, callback=print_perf)"
      ],
      "execution_count": 0,
      "outputs": [
        {
          "output_type": "stream",
          "text": [
            "Loading training data...\n",
            "     Epoch     |    Train accuracy  |       Test accuracy  \n",
            "              0| 0.06888333333333334|              0.0657\n",
            "              1|             0.79325|              0.7922\n",
            "              2|  0.8752666666666666|              0.8761\n",
            "              3|  0.9062833333333333|               0.907\n",
            "              4|  0.9200833333333334|              0.9196\n",
            "              5|             0.92915|               0.928\n",
            "              6|  0.9352833333333334|              0.9347\n",
            "              7|              0.9406|              0.9398\n",
            "              8|  0.9457166666666666|              0.9433\n",
            "              9|  0.9497666666666666|              0.9473\n",
            "             10|              0.9525|              0.9496\n",
            "             11|              0.9555|              0.9524\n",
            "             12|  0.9573166666666667|              0.9543\n",
            "             13|             0.95915|              0.9555\n",
            "             14|  0.9609833333333333|              0.9568\n"
          ],
          "name": "stdout"
        }
      ]
    },
    {
      "metadata": {
        "id": "x-unKWzjUdhA",
        "colab_type": "text"
      },
      "cell_type": "markdown",
      "source": [
        "# Adjoint Method for Differential Equations"
      ]
    },
    {
      "metadata": {
        "id": "0w9sR52fW6po",
        "colab_type": "text"
      },
      "cell_type": "markdown",
      "source": [
        "Applied to solving differential equations of the form $$ \\frac{d^2x}{dt^2} + \\omega^2 x = f(x),$$ where $f(x)$ is a polynomial of some fixed degree."
      ]
    },
    {
      "metadata": {
        "id": "gR5a7WPrqaNy",
        "colab_type": "code",
        "colab": {}
      },
      "cell_type": "code",
      "source": [
        "import autograd.numpy as np \n",
        "import scipy.integrate\n",
        "from autograd import grad   \n",
        "from autograd import elementwise_grad \n",
        "from autograd.extend import primitive\n",
        "from autograd import jacobian as jac\n",
        "odeint = primitive(scipy.integrate.odeint)\n",
        "solve_bvp = primitive(scipy.integrate.solve_bvp)"
      ],
      "execution_count": 0,
      "outputs": []
    },
    {
      "metadata": {
        "id": "nQhJR2DXZCfF",
        "colab_type": "text"
      },
      "cell_type": "markdown",
      "source": [
        "import integrate\n",
        "from integrate import odeint, solve_bvp"
      ]
    },
    {
      "metadata": {
        "id": "HpY63eCLUlrU",
        "colab_type": "code",
        "colab": {}
      },
      "cell_type": "code",
      "source": [
        "def poly(x,n,a):\n",
        "    return sum([a[i]*x**i for i in range(n)])"
      ],
      "execution_count": 0,
      "outputs": []
    },
    {
      "metadata": {
        "id": "PHRGlHvpXHLA",
        "colab_type": "code",
        "colab": {}
      },
      "cell_type": "code",
      "source": [
        "grad_poly=grad(poly)"
      ],
      "execution_count": 0,
      "outputs": []
    },
    {
      "metadata": {
        "id": "V5NjdEDnXKmg",
        "colab_type": "code",
        "outputId": "44077c03-c718-49d4-f513-1de07b39d488",
        "colab": {
          "base_uri": "https://localhost:8080/",
          "height": 34
        }
      },
      "cell_type": "code",
      "source": [
        "grad_poly(2.,2,[0,2])"
      ],
      "execution_count": 0,
      "outputs": [
        {
          "output_type": "execute_result",
          "data": {
            "text/plain": [
              "2.0"
            ]
          },
          "metadata": {
            "tags": []
          },
          "execution_count": 25
        }
      ]
    },
    {
      "metadata": {
        "id": "biq8a6_JXOSk",
        "colab_type": "code",
        "colab": {}
      },
      "cell_type": "code",
      "source": [
        "\n",
        "def xDiffEq(xAndXDot, t, wSq, fCoefs):\n",
        "    x, xDot = xAndXDot\n",
        "    dydt = np.array([xDot, -wSq*x + poly(x,len(fCoefs),fCoefs)])\n",
        "    return dydt\n",
        "\n",
        "def solveDiffEq(y0,wSq,fCoefs,dT):\n",
        "    maxT=10\n",
        "    t = np.linspace(0, maxT, 100) #make maxT/dT points between 0 and maxT\n",
        "    return odeint(xDiffEq, y0, t, args=(wSq, fCoefs))\n",
        "\n",
        "def lambdaDiffEq(lAndlDot, t, xRev, wSq, fCoefs,maxT,tStart,tEnd,dT):\n",
        "    l, lDot = lAndlDot\n",
        "    tAgain = np.linspace(tStart,tEnd,(tEnd-tStart)/dT+1)[::-1] #reverses array\n",
        "    tIndex = np.argmin(np.abs(tAgain-t))\n",
        "    x = xRev[tIndex]\n",
        "    dydt = [lDot, -wSq*l + l*grad_poly(x,len(fCoefs),fCoefs)]\n",
        "    return dydt\n",
        "def solveDiffEqLambda(revX,xDataEnd,wSq,fCoefs,dT,tStart,tEnd,maxT):\n",
        "    y0 = [0, -2*(revX[0]-xDataEnd)]\n",
        "    t = np.linspace(tStart,tEnd,(tEnd - tStart)/dT+1)[::-1] #reverses array\n",
        "    return odeint(lambdaDiffEq, y0, t, args=(revX, wSq, fCoefs,maxT,tStart,tEnd,dT))"
      ],
      "execution_count": 0,
      "outputs": []
    },
    {
      "metadata": {
        "id": "0GeHh72vYs6y",
        "colab_type": "code",
        "outputId": "27ab370c-b6e3-4d2e-bd2e-58710d6a9b56",
        "colab": {
          "base_uri": "https://localhost:8080/",
          "height": 34
        }
      },
      "cell_type": "code",
      "source": [
        "#as a check, try to solve a random equation we know the solution for. \n",
        "#For example, setting wSq = 33, f(x)=1+12x, x0 = 2, xDot0 = 5, we get\n",
        "#x[t] -> 1/21 (1 + 41 Cos[Sqrt[21] t] + 5 Sqrt[21] Sin[Sqrt[21] t])\n",
        "t = np.linspace(0, 10, 100) #make 100 points between 0 and 10\n",
        "xCheck = solveDiffEq([2,5],33,[1,12,0,0,0,0,0],0.1)\n",
        "xCheckMathematica = 1/21 * (1+41*np.cos(np.sqrt(21)*t) + 5*np.sqrt(21)*np.sin(np.sqrt(21)*t))\n",
        "any(np.abs(xCheck[:,0] - xCheckMathematica)>1e-6 )==False #If this full expression returns True, then this checks out"
      ],
      "execution_count": 0,
      "outputs": [
        {
          "output_type": "execute_result",
          "data": {
            "text/plain": [
              "True"
            ]
          },
          "metadata": {
            "tags": []
          },
          "execution_count": 53
        }
      ]
    },
    {
      "metadata": {
        "id": "HNRCyIvCXz0W",
        "colab_type": "code",
        "outputId": "9a221ee1-78d0-4f9f-da78-03652de2c633",
        "colab": {
          "base_uri": "https://localhost:8080/",
          "height": 282
        }
      },
      "cell_type": "code",
      "source": [
        "plt.plot(t,xCheck[:,0],'.')"
      ],
      "execution_count": 0,
      "outputs": [
        {
          "output_type": "execute_result",
          "data": {
            "text/plain": [
              "[<matplotlib.lines.Line2D at 0x7fa365553f60>]"
            ]
          },
          "metadata": {
            "tags": []
          },
          "execution_count": 12
        },
        {
          "output_type": "display_data",
          "data": {
            "image/png": "[encoded data removed]",
            "text/plain": [
              "<Figure size 432x288 with 1 Axes>"
            ]
          },
          "metadata": {
            "tags": []
          }
        }
      ]
    },
    {
      "metadata": {
        "id": "pfef6S_tmQkO",
        "colab_type": "code",
        "colab": {}
      },
      "cell_type": "code",
      "source": [
        "def dCdWSq(x, lambdaT, dT):\n",
        "    return dT*sum(x*lambdaT)\n",
        "\n",
        "def dCdAlphaI(x, lambdaT, dT,i):\n",
        "    return -dT*sum(lambdaT*x**i)"
      ],
      "execution_count": 0,
      "outputs": []
    },
    {
      "metadata": {
        "id": "jTvMksDG0hCY",
        "colab_type": "code",
        "colab": {}
      },
      "cell_type": "code",
      "source": [
        "def C(x,lambdaT,wSq,fCoefs,dT,maxT): \n",
        "    c0 = sum(np.array([x[int(maxT/10*0.2*i/dT)] - xData[i] for i in range(len(xData))])**2)\n",
        "    xDotDot = np.array([(x[i+1]-2*x[i]+x[i-1])/dT**2 for i in np.arange(1,len(x)-1)])\n",
        "    c1 = dT*sum(lambdaT[1:-1]*(xDotDot+wSq*x[1:-1]-poly(x[1:-1],len(fCoefs),fCoefs)))\n",
        "    return c0+c1"
      ],
      "execution_count": 0,
      "outputs": []
    },
    {
      "metadata": {
        "id": "cFYqs9PDd7Ea",
        "colab_type": "code",
        "outputId": "51b3009f-7755-4ef9-bd25-e852c0f60e1c",
        "colab": {
          "base_uri": "https://localhost:8080/",
          "height": 34
        }
      },
      "cell_type": "code",
      "source": [
        "grad_poly(2.,len(fCoefs),fCoefs)"
      ],
      "execution_count": 0,
      "outputs": [
        {
          "output_type": "execute_result",
          "data": {
            "text/plain": [
              "2.0"
            ]
          },
          "metadata": {
            "tags": []
          },
          "execution_count": 96
        }
      ]
    },
    {
      "metadata": {
        "id": "eEkDJq1gncnP",
        "colab_type": "code",
        "colab": {}
      },
      "cell_type": "code",
      "source": [
        "import copy\n",
        "\n",
        "\n",
        "alphaGuess = [1, 3, 0, 0,0, 0, 0] #the choice of initial conditions matters.\n",
        "wGuess = 20\n",
        "\n",
        "#initialize guesses\n",
        "x0 = xCheck[0,0]; xDot0 = xCheck[0,1]; wSq = wGuess; fCoefs = copy.copy(alphaGuess) \n",
        "dT = np.diff(t)[0] \n",
        "maxT=10"
      ],
      "execution_count": 0,
      "outputs": []
    },
    {
      "metadata": {
        "id": "kGZFMRpOZU25",
        "colab_type": "code",
        "colab": {}
      },
      "cell_type": "code",
      "source": [
        "tData=np.copy(t[::5])\n",
        "xData=np.copy(xCheck[::5,0])\n"
      ],
      "execution_count": 0,
      "outputs": []
    },
    {
      "metadata": {
        "id": "o1S65N5qaxT7",
        "colab_type": "code",
        "outputId": "b37f201f-7b30-4773-a137-163c0375ce36",
        "colab": {
          "base_uri": "https://localhost:8080/",
          "height": 282
        }
      },
      "cell_type": "code",
      "source": [
        "x = solveDiffEq([x0,xDot0],wSq,fCoefs,dT)\n",
        "plt.plot(t,x)\n",
        "fCoefs"
      ],
      "execution_count": 0,
      "outputs": [
        {
          "output_type": "execute_result",
          "data": {
            "text/plain": [
              "[1, 3, 0, 0, 0, 0, 0]"
            ]
          },
          "metadata": {
            "tags": []
          },
          "execution_count": 112
        },
        {
          "output_type": "display_data",
          "data": {
            "image/png": "[encoded data removed]",
            "text/plain": [
              "<Figure size 432x288 with 1 Axes>"
            ]
          },
          "metadata": {
            "tags": []
          }
        }
      ]
    },
    {
      "metadata": {
        "id": "AV2BR5XwYjMz",
        "colab_type": "code",
        "outputId": "272d9b3b-2455-406f-d44d-845e59ab96e0",
        "colab": {
          "base_uri": "https://localhost:8080/",
          "height": 334
        }
      },
      "cell_type": "code",
      "source": [
        "nIt = 1 #number of iterations. \n",
        "CVec= np.zeros(nIt)\n",
        "maxT=np.max(t)\n",
        "for it in range(nIt):\n",
        "    x = solveDiffEq([x0,xDot0],wSq,fCoefs,dT)\n",
        "    x = x[:,0] #don't care about xdot\n",
        "    x[np.isnan(x)] = 0.0001 #deal with nans in some arbitrary way (hopefully not necessary!)\n",
        "    lambdaVec = np.array([])\n",
        "    xVec = np.array([])\n",
        "    for j in range(len(tData)-1): #need to solve lambda ode 49 times\n",
        "        tStart = tData[j]\n",
        "        tEnd = tData[j+1]\n",
        "        tStartIndex = np.argmin(np.abs(t-tStart))\n",
        "        tEndIndex = np.argmin(np.abs(t-tEnd))\n",
        "        subX = x[tStartIndex:tEndIndex+1]\n",
        "        lambdaSol = solveDiffEqLambda(subX[::-1],xData[j+1],wSq,fCoefs,dT,tStart,tEnd,maxT)\n",
        "        lambdaRev = lambdaSol[:,0]\n",
        "        lambdaVec = np.concatenate((lambdaVec,lambdaRev[::-1]))\n",
        "        xVec = np.concatenate((xVec,subX))\n",
        "    lambdaVec[np.isnan(lambdaVec)] = 0.0001\n",
        "    CVec[it] = C(xVec,lambdaVec,wSq,fCoefs,dT,maxT) #so you can see how cost function decreases\n",
        "    \n",
        "    learningRate = 0.00001\n",
        "    wSq = wSq - learningRate*dCdWSq(xVec,lambdaVec,dT)\n",
        "    for i in range(len(fCoefs)):\n",
        "        fCoefs[i] = fCoefs[i] - learningRate*dCdAlphaI(xVec, lambdaVec, dT,i)"
      ],
      "execution_count": 0,
      "outputs": [
        {
          "output_type": "error",
          "ename": "ValueError",
          "evalue": "ignored",
          "traceback": [
            "\u001b[0;31m---------------------------------------------------------------------------\u001b[0m",
            "\u001b[0;31mValueError\u001b[0m                                Traceback (most recent call last)",
            "\u001b[0;32m<ipython-input-115-c2b9dbf01160>\u001b[0m in \u001b[0;36m<module>\u001b[0;34m()\u001b[0m\n\u001b[1;32m     19\u001b[0m         \u001b[0mxVec\u001b[0m \u001b[0;34m=\u001b[0m \u001b[0mnp\u001b[0m\u001b[0;34m.\u001b[0m\u001b[0mconcatenate\u001b[0m\u001b[0;34m(\u001b[0m\u001b[0;34m(\u001b[0m\u001b[0mxVec\u001b[0m\u001b[0;34m,\u001b[0m\u001b[0msubX\u001b[0m\u001b[0;34m)\u001b[0m\u001b[0;34m)\u001b[0m\u001b[0;34m\u001b[0m\u001b[0;34m\u001b[0m\u001b[0m\n\u001b[1;32m     20\u001b[0m     \u001b[0mlambdaVec\u001b[0m\u001b[0;34m[\u001b[0m\u001b[0mnp\u001b[0m\u001b[0;34m.\u001b[0m\u001b[0misnan\u001b[0m\u001b[0;34m(\u001b[0m\u001b[0mlambdaVec\u001b[0m\u001b[0;34m)\u001b[0m\u001b[0;34m]\u001b[0m \u001b[0;34m=\u001b[0m \u001b[0;36m0.0001\u001b[0m\u001b[0;34m\u001b[0m\u001b[0;34m\u001b[0m\u001b[0m\n\u001b[0;32m---> 21\u001b[0;31m     \u001b[0mCVec\u001b[0m\u001b[0;34m[\u001b[0m\u001b[0mit\u001b[0m\u001b[0;34m]\u001b[0m \u001b[0;34m=\u001b[0m \u001b[0mC\u001b[0m\u001b[0;34m(\u001b[0m\u001b[0mxVec\u001b[0m\u001b[0;34m,\u001b[0m\u001b[0mlambdaVec\u001b[0m\u001b[0;34m,\u001b[0m\u001b[0mwSq\u001b[0m\u001b[0;34m,\u001b[0m\u001b[0mfCoefs\u001b[0m\u001b[0;34m,\u001b[0m\u001b[0mdT\u001b[0m\u001b[0;34m,\u001b[0m\u001b[0mmaxT\u001b[0m\u001b[0;34m)\u001b[0m \u001b[0;31m#so you can see how cost function decreases\u001b[0m\u001b[0;34m\u001b[0m\u001b[0;34m\u001b[0m\u001b[0m\n\u001b[0m\u001b[1;32m     22\u001b[0m \u001b[0;34m\u001b[0m\u001b[0m\n\u001b[1;32m     23\u001b[0m     \u001b[0mlearningRate\u001b[0m \u001b[0;34m=\u001b[0m \u001b[0;36m0.00001\u001b[0m\u001b[0;34m\u001b[0m\u001b[0;34m\u001b[0m\u001b[0m\n",
            "\u001b[0;32m<ipython-input-14-eb88eaf1ac63>\u001b[0m in \u001b[0;36mC\u001b[0;34m(x, lambdaT, wSq, fCoefs, dT, maxT)\u001b[0m\n\u001b[1;32m      2\u001b[0m     \u001b[0mc0\u001b[0m \u001b[0;34m=\u001b[0m \u001b[0msum\u001b[0m\u001b[0;34m(\u001b[0m\u001b[0mnp\u001b[0m\u001b[0;34m.\u001b[0m\u001b[0marray\u001b[0m\u001b[0;34m(\u001b[0m\u001b[0;34m[\u001b[0m\u001b[0mx\u001b[0m\u001b[0;34m[\u001b[0m\u001b[0mint\u001b[0m\u001b[0;34m(\u001b[0m\u001b[0mmaxT\u001b[0m\u001b[0;34m/\u001b[0m\u001b[0;36m10\u001b[0m\u001b[0;34m*\u001b[0m\u001b[0;36m0.2\u001b[0m\u001b[0;34m*\u001b[0m\u001b[0mi\u001b[0m\u001b[0;34m/\u001b[0m\u001b[0mdT\u001b[0m\u001b[0;34m)\u001b[0m\u001b[0;34m]\u001b[0m \u001b[0;34m-\u001b[0m \u001b[0mxData\u001b[0m\u001b[0;34m[\u001b[0m\u001b[0mi\u001b[0m\u001b[0;34m]\u001b[0m \u001b[0;32mfor\u001b[0m \u001b[0mi\u001b[0m \u001b[0;32min\u001b[0m \u001b[0mrange\u001b[0m\u001b[0;34m(\u001b[0m\u001b[0mlen\u001b[0m\u001b[0;34m(\u001b[0m\u001b[0mxData\u001b[0m\u001b[0;34m)\u001b[0m\u001b[0;34m)\u001b[0m\u001b[0;34m]\u001b[0m\u001b[0;34m)\u001b[0m\u001b[0;34m**\u001b[0m\u001b[0;36m2\u001b[0m\u001b[0;34m)\u001b[0m\u001b[0;34m\u001b[0m\u001b[0;34m\u001b[0m\u001b[0m\n\u001b[1;32m      3\u001b[0m     \u001b[0mxDotDot\u001b[0m \u001b[0;34m=\u001b[0m \u001b[0mnp\u001b[0m\u001b[0;34m.\u001b[0m\u001b[0marray\u001b[0m\u001b[0;34m(\u001b[0m\u001b[0;34m[\u001b[0m\u001b[0;34m(\u001b[0m\u001b[0mx\u001b[0m\u001b[0;34m[\u001b[0m\u001b[0mi\u001b[0m\u001b[0;34m+\u001b[0m\u001b[0;36m1\u001b[0m\u001b[0;34m]\u001b[0m\u001b[0;34m-\u001b[0m\u001b[0;36m2\u001b[0m\u001b[0;34m*\u001b[0m\u001b[0mx\u001b[0m\u001b[0;34m[\u001b[0m\u001b[0mi\u001b[0m\u001b[0;34m]\u001b[0m\u001b[0;34m+\u001b[0m\u001b[0mx\u001b[0m\u001b[0;34m[\u001b[0m\u001b[0mi\u001b[0m\u001b[0;34m-\u001b[0m\u001b[0;36m1\u001b[0m\u001b[0;34m]\u001b[0m\u001b[0;34m)\u001b[0m\u001b[0;34m/\u001b[0m\u001b[0mdT\u001b[0m\u001b[0;34m**\u001b[0m\u001b[0;36m2\u001b[0m \u001b[0;32mfor\u001b[0m \u001b[0mi\u001b[0m \u001b[0;32min\u001b[0m \u001b[0mnp\u001b[0m\u001b[0;34m.\u001b[0m\u001b[0marange\u001b[0m\u001b[0;34m(\u001b[0m\u001b[0;36m1\u001b[0m\u001b[0;34m,\u001b[0m\u001b[0mlen\u001b[0m\u001b[0;34m(\u001b[0m\u001b[0mx\u001b[0m\u001b[0;34m)\u001b[0m\u001b[0;34m-\u001b[0m\u001b[0;36m1\u001b[0m\u001b[0;34m)\u001b[0m\u001b[0;34m]\u001b[0m\u001b[0;34m)\u001b[0m\u001b[0;34m\u001b[0m\u001b[0;34m\u001b[0m\u001b[0m\n\u001b[0;32m----> 4\u001b[0;31m     \u001b[0mc1\u001b[0m \u001b[0;34m=\u001b[0m \u001b[0mdT\u001b[0m\u001b[0;34m*\u001b[0m\u001b[0msum\u001b[0m\u001b[0;34m(\u001b[0m\u001b[0mlambdaT\u001b[0m\u001b[0;34m[\u001b[0m\u001b[0;36m1\u001b[0m\u001b[0;34m:\u001b[0m\u001b[0;34m-\u001b[0m\u001b[0;36m1\u001b[0m\u001b[0;34m]\u001b[0m\u001b[0;34m*\u001b[0m\u001b[0;34m(\u001b[0m\u001b[0mxDotDot\u001b[0m\u001b[0;34m+\u001b[0m\u001b[0mwSq\u001b[0m\u001b[0;34m*\u001b[0m\u001b[0mx\u001b[0m\u001b[0;34m[\u001b[0m\u001b[0;36m1\u001b[0m\u001b[0;34m:\u001b[0m\u001b[0;34m-\u001b[0m\u001b[0;36m1\u001b[0m\u001b[0;34m]\u001b[0m\u001b[0;34m-\u001b[0m\u001b[0mpoly\u001b[0m\u001b[0;34m(\u001b[0m\u001b[0mx\u001b[0m\u001b[0;34m[\u001b[0m\u001b[0;36m1\u001b[0m\u001b[0;34m:\u001b[0m\u001b[0;34m-\u001b[0m\u001b[0;36m1\u001b[0m\u001b[0;34m]\u001b[0m\u001b[0;34m,\u001b[0m\u001b[0mlen\u001b[0m\u001b[0;34m(\u001b[0m\u001b[0mfCoefs\u001b[0m\u001b[0;34m)\u001b[0m\u001b[0;34m,\u001b[0m\u001b[0mfCoefs\u001b[0m\u001b[0;34m)\u001b[0m\u001b[0;34m)\u001b[0m\u001b[0;34m)\u001b[0m\u001b[0;34m\u001b[0m\u001b[0;34m\u001b[0m\u001b[0m\n\u001b[0m\u001b[1;32m      5\u001b[0m     \u001b[0;32mreturn\u001b[0m \u001b[0mc0\u001b[0m\u001b[0;34m+\u001b[0m\u001b[0mc1\u001b[0m\u001b[0;34m\u001b[0m\u001b[0;34m\u001b[0m\u001b[0m\n",
            "\u001b[0;31mValueError\u001b[0m: operands could not be broadcast together with shapes (107,) (112,) "
          ]
        }
      ]
    },
    {
      "metadata": {
        "id": "J2hCdn3dei8M",
        "colab_type": "code",
        "outputId": "a01d8224-9bfd-4eba-bae5-708a671ade4f",
        "colab": {
          "base_uri": "https://localhost:8080/",
          "height": 391
        }
      },
      "cell_type": "code",
      "source": [
        "lambdaVec"
      ],
      "execution_count": 0,
      "outputs": [
        {
          "output_type": "execute_result",
          "data": {
            "text/plain": [
              "array([ 0.26941267,  0.30757316,  0.29315124,  0.22861248,  0.12499036,\n",
              "        0.        , -0.33189234, -0.37890265, -0.36113614, -0.28163015,\n",
              "       -0.15397695,  0.        , -0.12853538, -0.1474017 , -0.1272136 ,\n",
              "       -0.07331996,  0.        ,  0.82243818,  0.938931  ,  0.89490511,\n",
              "        0.69788712,  0.38155906,  0.        , -0.93906315, -1.07689813,\n",
              "       -0.9294064 , -0.53566623,  0.        ,  0.13485784,  0.15395954,\n",
              "        0.14674048,  0.11443481,  0.06256548,  0.        ,  1.06546998,\n",
              "        1.2163866 ,  1.15935097,  0.90411385,  0.49431033,  0.        ,\n",
              "       -1.51848984, -1.73357367, -1.65228746, -1.28852782, -0.70448275,\n",
              "        0.        ,  0.67111007,  0.76961509,  0.66420878,  0.38281877,\n",
              "        0.        ,  0.91094285,  1.03997176,  0.99120813,  0.77298854,\n",
              "        0.4226196 ,  0.        , -1.83256187, -2.09213188, -1.9940331 ,\n",
              "       -1.5550364 , -0.8501922 ,  0.        ,  1.24608346,  1.42258276,\n",
              "        1.35587873,  1.05737501,  0.5781035 ,  0.        ,  0.43826432,\n",
              "        0.5003415 ,  0.4768808 ,  0.37189302,  0.20332679,  0.        ,\n",
              "       -1.75467094, -2.00320822, -1.90927901, -1.48894136, -0.81405576,\n",
              "        0.        ,  1.60895724,  1.84511874,  1.59241166,  0.91779133,\n",
              "        0.        , -0.13956765, -0.15933646, -0.15186528, -0.11843136,\n",
              "       -0.06475053,  0.        , -1.32239874, -1.50970759, -1.43891832,\n",
              "       -1.12213301, -0.61350894,  0.        ,  1.59762239,  1.83212017,\n",
              "        1.58119338,  0.91132563,  0.        , -0.56547478, -0.64557047,\n",
              "       -0.61530007, -0.47983858, -0.26234437,  0.        ])"
            ]
          },
          "metadata": {
            "tags": []
          },
          "execution_count": 117
        }
      ]
    },
    {
      "metadata": {
        "id": "Dnz1u-9HYszQ",
        "colab_type": "code",
        "outputId": "0928548b-5631-4d0a-d83c-d2f24ca32778",
        "colab": {
          "base_uri": "https://localhost:8080/",
          "height": 279
        }
      },
      "cell_type": "code",
      "source": [
        "plt.figure()\n",
        "plt.plot(CVec)\n",
        "plt.xlabel('round of gradient descent')\n",
        "plt.ylabel('Cost')\n",
        "plt.show()"
      ],
      "execution_count": 0,
      "outputs": [
        {
          "output_type": "display_data",
          "data": {
            "image/png": "[encoded data removed]",
            "text/plain": [
              "<Figure size 432x288 with 1 Axes>"
            ]
          },
          "metadata": {
            "tags": []
          }
        }
      ]
    },
    {
      "metadata": {
        "id": "PHFIoxeTaCS3",
        "colab_type": "code",
        "outputId": "9473e6f2-a26b-4845-b8c3-6c5412897cd0",
        "colab": {
          "base_uri": "https://localhost:8080/",
          "height": 34
        }
      },
      "cell_type": "code",
      "source": [
        "CVec"
      ],
      "execution_count": 0,
      "outputs": [
        {
          "output_type": "execute_result",
          "data": {
            "text/plain": [
              "array([nan, nan, nan, nan, nan, nan, nan, nan, nan, nan])"
            ]
          },
          "metadata": {
            "tags": []
          },
          "execution_count": 78
        }
      ]
    },
    {
      "metadata": {
        "id": "H8vy-kT4hfXg",
        "colab_type": "code",
        "colab": {}
      },
      "cell_type": "code",
      "source": [
        ""
      ],
      "execution_count": 0,
      "outputs": []
    }
  ]
}